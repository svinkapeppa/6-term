{
 "cells": [
  {
   "cell_type": "markdown",
   "metadata": {},
   "source": [
    "# Tests"
   ]
  },
  {
   "cell_type": "code",
   "execution_count": 1,
   "metadata": {},
   "outputs": [],
   "source": [
    "import solution\n",
    "import numpy as np"
   ]
  },
  {
   "cell_type": "markdown",
   "metadata": {},
   "source": [
    "## Angular defect"
   ]
  },
  {
   "cell_type": "code",
   "execution_count": 2,
   "metadata": {},
   "outputs": [
    {
     "name": "stdout",
     "output_type": "stream",
     "text": [
      "------ANGULAR DEFECT------\n",
      "0.1145617870073028\n",
      "-0.020183414601867566\n",
      "-0.03235810909971648\n",
      "0.6639183124305805\n",
      "0.48224860249922585\n",
      "0.10673385241215588\n",
      "-0.001405782146858714\n",
      "0.005330365431784223\n",
      "-2.041883761180351\n",
      "0.15454209609398606\n"
     ]
    }
   ],
   "source": [
    "mesh = solution.Mesh.create_from_obj(\"obj/teddy.obj\")\n",
    "print('------ANGULAR DEFECT------')\n",
    "for i in np.random.randint(0, mesh.n, 10):\n",
    "    print(mesh.angular_defect(i))"
   ]
  },
  {
   "cell_type": "code",
   "execution_count": 3,
   "metadata": {},
   "outputs": [
    {
     "name": "stdout",
     "output_type": "stream",
     "text": [
      "------ANGULAR DEFECT------\n",
      "-0.028700789370153967\n",
      "0.050517312809136294\n",
      "0.002911350628658549\n",
      "0.02517769468402753\n",
      "-0.01539376998065567\n",
      "0.29602421601073337\n",
      "-0.030744992214996936\n",
      "-0.01832559633687736\n",
      "-0.012784362153814177\n",
      "0.1066413373029127\n"
     ]
    }
   ],
   "source": [
    "mesh = solution.Mesh.create_from_obj(\"obj/dragon.obj\")\n",
    "print('------ANGULAR DEFECT------')\n",
    "for i in np.random.randint(0, mesh.n, 10):\n",
    "    print(mesh.angular_defect(i))"
   ]
  },
  {
   "cell_type": "code",
   "execution_count": null,
   "metadata": {},
   "outputs": [],
   "source": []
  }
 ],
 "metadata": {
  "kernelspec": {
   "display_name": "Python 3",
   "language": "python",
   "name": "python3"
  },
  "language_info": {
   "codemirror_mode": {
    "name": "ipython",
    "version": 3
   },
   "file_extension": ".py",
   "mimetype": "text/x-python",
   "name": "python",
   "nbconvert_exporter": "python",
   "pygments_lexer": "ipython3",
   "version": "3.6.5"
  }
 },
 "nbformat": 4,
 "nbformat_minor": 1
}
