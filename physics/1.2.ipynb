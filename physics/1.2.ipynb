{
 "cells": [
  {
   "cell_type": "code",
   "execution_count": 1,
   "metadata": {},
   "outputs": [],
   "source": [
    "import pandas as pd\n",
    "import numpy as np\n",
    "import matplotlib.pyplot as plt\n",
    "from numpy import sqrt, fabs"
   ]
  },
  {
   "cell_type": "code",
   "execution_count": 2,
   "metadata": {},
   "outputs": [],
   "source": [
    "df = pd.read_csv(\"laba1_2.csv\", sep=';')"
   ]
  },
  {
   "cell_type": "code",
   "execution_count": 3,
   "metadata": {},
   "outputs": [
    {
     "data": {
      "text/html": [
       "<div>\n",
       "<style scoped>\n",
       "    .dataframe tbody tr th:only-of-type {\n",
       "        vertical-align: middle;\n",
       "    }\n",
       "\n",
       "    .dataframe tbody tr th {\n",
       "        vertical-align: top;\n",
       "    }\n",
       "\n",
       "    .dataframe thead th {\n",
       "        text-align: right;\n",
       "    }\n",
       "</style>\n",
       "<table border=\"1\" class=\"dataframe\">\n",
       "  <thead>\n",
       "    <tr style=\"text-align: right;\">\n",
       "      <th></th>\n",
       "      <th>theta</th>\n",
       "      <th>number_channel</th>\n",
       "    </tr>\n",
       "  </thead>\n",
       "  <tbody>\n",
       "    <tr>\n",
       "      <th>0</th>\n",
       "      <td>0</td>\n",
       "      <td>864</td>\n",
       "    </tr>\n",
       "    <tr>\n",
       "      <th>1</th>\n",
       "      <td>10</td>\n",
       "      <td>832</td>\n",
       "    </tr>\n",
       "    <tr>\n",
       "      <th>2</th>\n",
       "      <td>20</td>\n",
       "      <td>793</td>\n",
       "    </tr>\n",
       "    <tr>\n",
       "      <th>3</th>\n",
       "      <td>30</td>\n",
       "      <td>725</td>\n",
       "    </tr>\n",
       "    <tr>\n",
       "      <th>4</th>\n",
       "      <td>40</td>\n",
       "      <td>662</td>\n",
       "    </tr>\n",
       "    <tr>\n",
       "      <th>5</th>\n",
       "      <td>50</td>\n",
       "      <td>594</td>\n",
       "    </tr>\n",
       "    <tr>\n",
       "      <th>6</th>\n",
       "      <td>60</td>\n",
       "      <td>520</td>\n",
       "    </tr>\n",
       "    <tr>\n",
       "      <th>7</th>\n",
       "      <td>70</td>\n",
       "      <td>463</td>\n",
       "    </tr>\n",
       "    <tr>\n",
       "      <th>8</th>\n",
       "      <td>80</td>\n",
       "      <td>416</td>\n",
       "    </tr>\n",
       "    <tr>\n",
       "      <th>9</th>\n",
       "      <td>90</td>\n",
       "      <td>372</td>\n",
       "    </tr>\n",
       "    <tr>\n",
       "      <th>10</th>\n",
       "      <td>100</td>\n",
       "      <td>349</td>\n",
       "    </tr>\n",
       "    <tr>\n",
       "      <th>11</th>\n",
       "      <td>110</td>\n",
       "      <td>310</td>\n",
       "    </tr>\n",
       "    <tr>\n",
       "      <th>12</th>\n",
       "      <td>120</td>\n",
       "      <td>282</td>\n",
       "    </tr>\n",
       "  </tbody>\n",
       "</table>\n",
       "</div>"
      ],
      "text/plain": [
       "    theta  number_channel\n",
       "0       0             864\n",
       "1      10             832\n",
       "2      20             793\n",
       "3      30             725\n",
       "4      40             662\n",
       "5      50             594\n",
       "6      60             520\n",
       "7      70             463\n",
       "8      80             416\n",
       "9      90             372\n",
       "10    100             349\n",
       "11    110             310\n",
       "12    120             282"
      ]
     },
     "execution_count": 3,
     "metadata": {},
     "output_type": "execute_result"
    }
   ],
   "source": [
    "df"
   ]
  },
  {
   "cell_type": "code",
   "execution_count": 150,
   "metadata": {},
   "outputs": [],
   "source": [
    "theta = np.array(df['theta'])\n",
    "number_channel = np.array(df['number_channel'])"
   ]
  },
  {
   "cell_type": "code",
   "execution_count": 151,
   "metadata": {},
   "outputs": [],
   "source": [
    "# переводим в радианы\n",
    "theta = np.pi / 180 * theta"
   ]
  },
  {
   "cell_type": "code",
   "execution_count": 152,
   "metadata": {},
   "outputs": [
    {
     "data": {
      "text/plain": [
       "array([0.        , 0.17453293, 0.34906585, 0.52359878, 0.6981317 ,\n",
       "       0.87266463, 1.04719755, 1.22173048, 1.3962634 , 1.57079633,\n",
       "       1.74532925, 1.91986218, 2.0943951 ])"
      ]
     },
     "execution_count": 152,
     "metadata": {},
     "output_type": "execute_result"
    }
   ],
   "source": [
    "theta"
   ]
  },
  {
   "cell_type": "code",
   "execution_count": 153,
   "metadata": {},
   "outputs": [],
   "source": [
    "ox = 1 - np.cos(theta)"
   ]
  },
  {
   "cell_type": "code",
   "execution_count": 154,
   "metadata": {},
   "outputs": [],
   "source": [
    "oy = 1 / number_channel"
   ]
  },
  {
   "cell_type": "code",
   "execution_count": 155,
   "metadata": {
    "scrolled": true
   },
   "outputs": [
    {
     "data": {
      "text/plain": [
       "array([0.        , 0.01519225, 0.06030738, 0.1339746 , 0.23395556,\n",
       "       0.35721239, 0.5       , 0.65797986, 0.82635182, 1.        ,\n",
       "       1.17364818, 1.34202014, 1.5       ])"
      ]
     },
     "execution_count": 155,
     "metadata": {},
     "output_type": "execute_result"
    }
   ],
   "source": [
    "ox "
   ]
  },
  {
   "cell_type": "code",
   "execution_count": 156,
   "metadata": {},
   "outputs": [
    {
     "data": {
      "text/plain": [
       "array([0.00115741, 0.00120192, 0.00126103, 0.00137931, 0.00151057,\n",
       "       0.0016835 , 0.00192308, 0.00215983, 0.00240385, 0.00268817,\n",
       "       0.00286533, 0.00322581, 0.0035461 ])"
      ]
     },
     "execution_count": 156,
     "metadata": {},
     "output_type": "execute_result"
    }
   ],
   "source": [
    "oy"
   ]
  },
  {
   "cell_type": "code",
   "execution_count": 159,
   "metadata": {},
   "outputs": [],
   "source": [
    "# погрешности для 1/N(\\Theta) и (1 - cos(\\theta))\n",
    "sigma_N = 10\n",
    "sigma_theta = 0.0174533\n",
    "errorbar_y = [sigma_N/i**2 for i in number_channel] \n",
    "errorbar_x = [np.sin(i) * sigma_theta for i in theta]\n"
   ]
  },
  {
   "cell_type": "code",
   "execution_count": 160,
   "metadata": {},
   "outputs": [
    {
     "data": {
      "text/plain": [
       "[0.0,\n",
       " 0.0030307337392742354,\n",
       " 0.005969380167505894,\n",
       " 0.008726649999999999,\n",
       " 0.011218764988142076,\n",
       " 0.01337000347908846,\n",
       " 0.015115001179870944,\n",
       " 0.016400737218362695,\n",
       " 0.017188145155647972,\n",
       " 0.0174533,\n",
       " 0.017188145155647972,\n",
       " 0.016400737218362698,\n",
       " 0.015115001179870947]"
      ]
     },
     "execution_count": 160,
     "metadata": {},
     "output_type": "execute_result"
    }
   ],
   "source": [
    "errorbar_x"
   ]
  },
  {
   "cell_type": "code",
   "execution_count": 161,
   "metadata": {},
   "outputs": [
    {
     "data": {
      "image/png": "[encoded data removed]",
      "text/plain": [
       "<matplotlib.figure.Figure at 0x113ce2c18>"
      ]
     },
     "metadata": {},
     "output_type": "display_data"
    }
   ],
   "source": [
    "fig = plt.figure(figsize=(18, 14)); \n",
    "ax = fig.gca()\n",
    "ax.set_xticks(np.arange(-0.2, 1.6, 0.01), minor=True) # это для мелких делений по оси ОХ\n",
    "ax.set_yticks(np.arange(0.001, 0.004, 0.000025), minor=True) # аналогично для OY\n",
    "ax.grid(which='minor', alpha=0.4, linestyle='-')\n",
    "\n",
    "plt.title(' ', fontsize=18); \n",
    "# plt.grid(ls='-')\n",
    "\n",
    "# plt.plot(ox, oy, lw=2, label='Длина волны', color='black')\n",
    "mnk_coef = np.polyfit(ox, oy, 1) # считаем коэфф-ты аппроксимирующей прямой\n",
    "xp = np.linspace(-0.1, 1.6, 100)\n",
    "p = np.poly1d(mnk_coef) # создаем полином с коэффициентами (убывающими по степени) из массива mnk_coef_f1\n",
    "# test1 = np.poly1d([mnk_coef[0] + sigma_k, mnk_coef[1] + sigma_c]) \n",
    "# test2 = np.poly1d([mnk_coef[0] - sigma_k, mnk_coef[1] - sigma_c]) \n",
    "\n",
    "\n",
    "_ = plt.plot(xp, p(xp), color='orange', ) # рисуем точки и аппроксимирующую прямую\n",
    "\n",
    "\n",
    "plt.xlabel('1 - cos($\\Theta$)', fontsize=15); \n",
    "plt.ylabel('1/N($\\Theta$)', fontsize=15)\n",
    "plt.scatter(ox, oy, color='red')\n",
    "\n",
    "plt.errorbar(ox, oy, yerr=errorbar_y, xerr=errorbar_x,fmt='o', color='grey')\n",
    "plt.show()"
   ]
  },
  {
   "cell_type": "code",
   "execution_count": 162,
   "metadata": {},
   "outputs": [],
   "source": [
    "# Ниже реализованы функции, которые считают погрешности для коэффициентов k и с, \n",
    "# найденных с помощью метода наименьших квадратов (y = kx + c)\n",
    "# rmse означает root mean square error\n",
    "def get_rmse_k(x, y, k, n):\n",
    "    return  sqrt(fabs(((np.mean(y ** 2) - ((np.mean(y)) ** 2)) /\n",
    "                 ((np.mean(x ** 2) - \n",
    "                   ((np.mean(x)) ** 2)))) - (k ** 2))) / sqrt(n)\n",
    "\n",
    "def get_rmse_c(x, y, sigma_k, n):\n",
    "    return sigma_k * sqrt(np.mean(x ** 2) - ((np.mean(x)) ** 2))"
   ]
  },
  {
   "cell_type": "code",
   "execution_count": 163,
   "metadata": {},
   "outputs": [
    {
     "data": {
      "text/plain": [
       "array([0.00153645, 0.00115543])"
      ]
     },
     "execution_count": 163,
     "metadata": {},
     "output_type": "execute_result"
    }
   ],
   "source": [
    "mnk_coef"
   ]
  },
  {
   "cell_type": "code",
   "execution_count": 164,
   "metadata": {},
   "outputs": [],
   "source": [
    "sigma_k = get_rmse_k(ox, oy, mnk_coef[0], 13)\n",
    "sigma_c = get_rmse_c(ox, oy, sigma_k, 13)"
   ]
  },
  {
   "cell_type": "code",
   "execution_count": 165,
   "metadata": {},
   "outputs": [
    {
     "data": {
      "text/plain": [
       "(2.052604251648306e-05, 1.0369277946083052e-05)"
      ]
     },
     "execution_count": 165,
     "metadata": {},
     "output_type": "execute_result"
    }
   ],
   "source": [
    "sigma_k, sigma_c"
   ]
  },
  {
   "cell_type": "code",
   "execution_count": 166,
   "metadata": {},
   "outputs": [
    {
     "name": "stdout",
     "output_type": "stream",
     "text": [
      " \n",
      "0.001536 x + 0.001155\n"
     ]
    }
   ],
   "source": [
    "print(np.poly1d(p))"
   ]
  },
  {
   "cell_type": "code",
   "execution_count": 103,
   "metadata": {},
   "outputs": [],
   "source": [
    "E_gamma = 662 * 10**3 # эВ, значение из лабника"
   ]
  },
  {
   "cell_type": "code",
   "execution_count": 169,
   "metadata": {},
   "outputs": [
    {
     "data": {
      "text/plain": [
       "0.001155432920689506"
      ]
     },
     "execution_count": 169,
     "metadata": {},
     "output_type": "execute_result"
    }
   ],
   "source": [
    "# cos(\\theta) = 1, т.е. \\theta = 0\n",
    "theta_0 = p(0)\n",
    "sigma_theta_0 = errorbar_y[9]\n",
    "theta_0"
   ]
  },
  {
   "cell_type": "code",
   "execution_count": 170,
   "metadata": {},
   "outputs": [
    {
     "data": {
      "text/plain": [
       "0.002691880810258882"
      ]
     },
     "execution_count": 170,
     "metadata": {},
     "output_type": "execute_result"
    }
   ],
   "source": [
    "# cos(\\theta) = 0, т.е. \\theta = pi/2\n",
    "theta_90 = p(1)\n",
    "sigma_theta_90 = errorbar_y[0]\n",
    "theta_90"
   ]
  },
  {
   "cell_type": "code",
   "execution_count": 171,
   "metadata": {},
   "outputs": [
    {
     "data": {
      "text/plain": [
       "865.4764652224455"
      ]
     },
     "execution_count": 171,
     "metadata": {},
     "output_type": "execute_result"
    }
   ],
   "source": [
    "N_0 = 1 / theta_0\n",
    "N_0"
   ]
  },
  {
   "cell_type": "code",
   "execution_count": 172,
   "metadata": {},
   "outputs": [
    {
     "data": {
      "text/plain": [
       "371.4874730667695"
      ]
     },
     "execution_count": 172,
     "metadata": {},
     "output_type": "execute_result"
    }
   ],
   "source": [
    "N_90 = 1 / theta_90\n",
    "N_90"
   ]
  },
  {
   "cell_type": "code",
   "execution_count": 173,
   "metadata": {},
   "outputs": [],
   "source": [
    "ans = E_gamma * N_90 / (N_0 - N_90)"
   ]
  },
  {
   "cell_type": "code",
   "execution_count": 174,
   "metadata": {},
   "outputs": [
    {
     "data": {
      "text/plain": [
       "497834.3871531059"
      ]
     },
     "execution_count": 174,
     "metadata": {},
     "output_type": "execute_result"
    }
   ],
   "source": [
    "# значение в лабе, которое мы ищем (энергию покоя электрона), настоящее значение равно примерно 511 кэВ,\n",
    "# так что мы близки к истине\n",
    "ans # эВ"
   ]
  },
  {
   "cell_type": "code",
   "execution_count": 175,
   "metadata": {},
   "outputs": [
    {
     "data": {
      "text/plain": [
       "54.12833216657554"
      ]
     },
     "execution_count": 175,
     "metadata": {},
     "output_type": "execute_result"
    }
   ],
   "source": [
    "sigma_N_0 = 1/theta_0**2 * sigma_theta_0\n",
    "sigma_N_0"
   ]
  },
  {
   "cell_type": "code",
   "execution_count": 176,
   "metadata": {},
   "outputs": [
    {
     "data": {
      "text/plain": [
       "1.8486762507171344"
      ]
     },
     "execution_count": 176,
     "metadata": {},
     "output_type": "execute_result"
    }
   ],
   "source": [
    "sigma_N_90 = 1/theta_90**2 * sigma_theta_90\n",
    "sigma_N_90"
   ]
  },
  {
   "cell_type": "code",
   "execution_count": 177,
   "metadata": {},
   "outputs": [],
   "source": [
    "sigma_ans =  (sigma_N_0 * ( E_gamma * N_0 / (N_0 - N_90)**2) + sigma_N_90 * (E_gamma / (N_0 - N_90)))"
   ]
  },
  {
   "cell_type": "code",
   "execution_count": 179,
   "metadata": {},
   "outputs": [
    {
     "data": {
      "text/plain": [
       "129565.08274549659"
      ]
     },
     "execution_count": 179,
     "metadata": {},
     "output_type": "execute_result"
    }
   ],
   "source": [
    "# какая-то очень большая погрешность\n",
    "sigma_ans"
   ]
  },
  {
   "cell_type": "code",
   "execution_count": null,
   "metadata": {},
   "outputs": [],
   "source": []
  },
  {
   "cell_type": "code",
   "execution_count": null,
   "metadata": {},
   "outputs": [],
   "source": []
  },
  {
   "cell_type": "code",
   "execution_count": null,
   "metadata": {},
   "outputs": [],
   "source": []
  },
  {
   "cell_type": "code",
   "execution_count": null,
   "metadata": {},
   "outputs": [],
   "source": []
  },
  {
   "cell_type": "code",
   "execution_count": null,
   "metadata": {},
   "outputs": [],
   "source": []
  },
  {
   "cell_type": "code",
   "execution_count": 38,
   "metadata": {},
   "outputs": [],
   "source": [
    "import numpy as np\n",
    "import matplotlib.pyplot as plt\n",
    "\n",
    "%matplotlib inline"
   ]
  },
  {
   "cell_type": "code",
   "execution_count": 39,
   "metadata": {},
   "outputs": [],
   "source": [
    "theta = np.arange(0, 121, 10)\n",
    "N = np.array([839, 838, 830, 712, 668, 552, 475, 408, 372, 316, 303, 268, 267])"
   ]
  },
  {
   "cell_type": "code",
   "execution_count": 49,
   "metadata": {},
   "outputs": [],
   "source": [
    "x = 1 - np.cos(theta * np.pi / 180)\n",
    "y = 1 / N\n",
    "p = np.poly1d(np.polyfit(x, y, 1))\n",
    "grid = np.arange(0, 1.51, 0.05)"
   ]
  },
  {
   "cell_type": "code",
   "execution_count": 78,
   "metadata": {},
   "outputs": [
    {
     "data": {
      "image/png": "[encoded data removed]",
      "text/plain": [
       "<matplotlib.figure.Figure at 0x118dae6d8>"
      ]
     },
     "metadata": {},
     "output_type": "display_data"
    }
   ],
   "source": [
    "plt.figure(figsize=(12,8))\n",
    "tmp = plt.axis()\n",
    "plt.axis((-0.02, 1.52, -0.0001, 0.005))\n",
    "\n",
    "plt.scatter(x, y, c='b', label='Измерения', linewidths=3)\n",
    "plt.plot(grid, p(grid), c='r', label='Аппроксимация')\n",
    "\n",
    "plt.xlabel(r'$1 - cos(\\theta)$', horizontalalignment='right',\n",
    "           fontsize='x-large', x=1)\n",
    "h = plt.ylabel(r'$\\frac{1}{N}$', verticalalignment='top',\n",
    "               fontsize='x-large', horizontalalignment='right', y=1)\n",
    "h.set_rotation(0)\n",
    "\n",
    "plt.title(r'Зависимость $\\frac{1}{N}$ от $1 - cos(\\theta)$')\n",
    "plt.legend(loc='best')\n",
    "plt.grid(ls='--')\n",
    "plt.savefig(\"First\")\n",
    "plt.show()"
   ]
  },
  {
   "cell_type": "code",
   "execution_count": 94,
   "metadata": {},
   "outputs": [],
   "source": [
    "def GetK(x, y, k, n):\n",
    "    return np.sqrt(((np.mean(y ** 2) - (np.mean(y) ** 2)) /\n",
    "                    (np.mean(x ** 2) - (np.mean(x) ** 2))) - (k ** 2)) / sqrt(n)\n",
    "\n",
    "def GetC(x, sigma_k, n):\n",
    "    return sigma_k * sqrt(np.mean(x ** 2) - ((np.mean(x)) ** 2))"
   ]
  },
  {
   "cell_type": "code",
   "execution_count": 95,
   "metadata": {},
   "outputs": [
    {
     "data": {
      "text/plain": [
       "0.00040177256630008484"
      ]
     },
     "execution_count": 95,
     "metadata": {},
     "output_type": "execute_result"
    }
   ],
   "source": [
    "errk = GetK(x, y, p[0], 13)\n",
    "errk"
   ]
  },
  {
   "cell_type": "code",
   "execution_count": 96,
   "metadata": {},
   "outputs": [
    {
     "data": {
      "text/plain": [
       "0.00020296612986800343"
      ]
     },
     "execution_count": 96,
     "metadata": {},
     "output_type": "execute_result"
    }
   ],
   "source": [
    "errc = GetC(x, errk, 13)\n",
    "errc"
   ]
  },
  {
   "cell_type": "code",
   "execution_count": 97,
   "metadata": {},
   "outputs": [
    {
     "data": {
      "text/plain": [
       "0.34653706288279124"
      ]
     },
     "execution_count": 97,
     "metadata": {},
     "output_type": "execute_result"
    }
   ],
   "source": [
    "errk / p[0]"
   ]
  },
  {
   "cell_type": "code",
   "execution_count": 98,
   "metadata": {},
   "outputs": [
    {
     "data": {
      "text/plain": [
       "0.10981950803118178"
      ]
     },
     "execution_count": 98,
     "metadata": {},
     "output_type": "execute_result"
    }
   ],
   "source": [
    "errc / p[1]"
   ]
  },
  {
   "cell_type": "code",
   "execution_count": 99,
   "metadata": {},
   "outputs": [
    {
     "data": {
      "text/plain": [
       "0.0011593927730494324"
      ]
     },
     "execution_count": 99,
     "metadata": {},
     "output_type": "execute_result"
    }
   ],
   "source": [
    "p[0]"
   ]
  },
  {
   "cell_type": "code",
   "execution_count": 100,
   "metadata": {},
   "outputs": [
    {
     "data": {
      "text/plain": [
       "0.0018481791942682345"
      ]
     },
     "execution_count": 100,
     "metadata": {},
     "output_type": "execute_result"
    }
   ],
   "source": [
    "p[1]"
   ]
  },
  {
   "cell_type": "code",
   "execution_count": 106,
   "metadata": {},
   "outputs": [],
   "source": [
    "xxx = (1 / p(1)) / ((1 / p(0)) - (1 / p(1))) * E_gamma"
   ]
  },
  {
   "cell_type": "code",
   "execution_count": 105,
   "metadata": {},
   "outputs": [
    {
     "data": {
      "text/plain": [
       "399984.70363288716"
      ]
     },
     "execution_count": 105,
     "metadata": {},
     "output_type": "execute_result"
    }
   ],
   "source": [
    "E_gamma * (316 / (839 - 316))"
   ]
  },
  {
   "cell_type": "code",
   "execution_count": 107,
   "metadata": {},
   "outputs": [
    {
     "data": {
      "text/plain": [
       "166113.33319605177"
      ]
     },
     "execution_count": 107,
     "metadata": {},
     "output_type": "execute_result"
    }
   ],
   "source": [
    "xxx * 0.4"
   ]
  },
  {
   "cell_type": "code",
   "execution_count": 108,
   "metadata": {},
   "outputs": [
    {
     "data": {
      "text/plain": [
       "415283.33299012936"
      ]
     },
     "execution_count": 108,
     "metadata": {},
     "output_type": "execute_result"
    }
   ],
   "source": [
    "xxx"
   ]
  },
  {
   "cell_type": "code",
   "execution_count": null,
   "metadata": {},
   "outputs": [],
   "source": []
  }
 ],
 "metadata": {
  "kernelspec": {
   "display_name": "Python 3",
   "language": "python",
   "name": "python3"
  },
  "language_info": {
   "codemirror_mode": {
    "name": "ipython",
    "version": 3
   },
   "file_extension": ".py",
   "mimetype": "text/x-python",
   "name": "python",
   "nbconvert_exporter": "python",
   "pygments_lexer": "ipython3",
   "version": "3.6.4"
  }
 },
 "nbformat": 4,
 "nbformat_minor": 2
}
