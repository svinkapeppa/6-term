{
 "cells": [
  {
   "cell_type": "code",
   "execution_count": 35,
   "metadata": {},
   "outputs": [],
   "source": [
    "import numpy as np"
   ]
  },
  {
   "cell_type": "code",
   "execution_count": 36,
   "metadata": {},
   "outputs": [],
   "source": [
    "h = 6.626\n",
    "mu = 5.05"
   ]
  },
  {
   "cell_type": "code",
   "execution_count": 45,
   "metadata": {},
   "outputs": [],
   "source": [
    "def get_g(x, y):\n",
    "    g = (h * np.mean(x) * 100) / (mu * np.mean(y))\n",
    "    error = g * np.sqrt(((np.std(x) * 3) / (np.mean(x) * 2)) ** 2 +\n",
    "                        ((np.std(y) * 3) / (np.mean(y) * 2)) ** 2)\n",
    "    return g, error\n",
    "\n",
    "def get_m(g, gerr, i):\n",
    "    m = g * mu * i * 10**(-24)\n",
    "    error = m * (gerr / g)\n",
    "    return m, error"
   ]
  },
  {
   "cell_type": "code",
   "execution_count": 46,
   "metadata": {},
   "outputs": [],
   "source": [
    "x = np.array([9.6954, 9.6812, 9.7075])\n",
    "y = np.array([226, 224, 223])"
   ]
  },
  {
   "cell_type": "code",
   "execution_count": 47,
   "metadata": {},
   "outputs": [],
   "source": [
    "g, gerr = get_g(x, y)\n",
    "m, merr = get_m(g, gerr, 0.5)"
   ]
  },
  {
   "cell_type": "code",
   "execution_count": 48,
   "metadata": {},
   "outputs": [
    {
     "name": "stdout",
     "output_type": "stream",
     "text": [
      "5.6702292557338945 0.04821794613266063\n",
      "1.4317328870728083e-23 1.2175031398496808e-25\n"
     ]
    }
   ],
   "source": [
    "print(g, gerr)\n",
    "print(m, merr)"
   ]
  },
  {
   "cell_type": "code",
   "execution_count": 49,
   "metadata": {},
   "outputs": [],
   "source": [
    "x = np.array([9.0106, 8.99, 8.9482])\n",
    "y = np.array([209, 211, 209])"
   ]
  },
  {
   "cell_type": "code",
   "execution_count": 50,
   "metadata": {},
   "outputs": [],
   "source": [
    "g, gerr = get_g(x, y)\n",
    "m, merr = get_m(g, gerr, 0.5)"
   ]
  },
  {
   "cell_type": "code",
   "execution_count": 51,
   "metadata": {},
   "outputs": [
    {
     "name": "stdout",
     "output_type": "stream",
     "text": [
      "5.621456304994569 0.045072455959579844\n",
      "1.4194177170111284e-23 1.1380795129793908e-25\n"
     ]
    }
   ],
   "source": [
    "print(g, gerr)\n",
    "print(m, merr)"
   ]
  },
  {
   "cell_type": "code",
   "execution_count": 52,
   "metadata": {},
   "outputs": [],
   "source": [
    "x = np.array([9.702, 9.6785, 9.6873])\n",
    "y = np.array([237, 240, 238])"
   ]
  },
  {
   "cell_type": "code",
   "execution_count": 53,
   "metadata": {},
   "outputs": [],
   "source": [
    "g, gerr = get_g(x, y)\n",
    "m, merr = get_m(g, gerr, 0.5)"
   ]
  },
  {
   "cell_type": "code",
   "execution_count": 54,
   "metadata": {},
   "outputs": [
    {
     "name": "stdout",
     "output_type": "stream",
     "text": [
      "5.334161678321679 0.04262958086122543\n",
      "1.3468758237762237e-23 1.076396916745942e-25\n"
     ]
    }
   ],
   "source": [
    "print(g, gerr)\n",
    "print(m, merr)"
   ]
  },
  {
   "cell_type": "code",
   "execution_count": null,
   "metadata": {},
   "outputs": [],
   "source": []
  }
 ],
 "metadata": {
  "kernelspec": {
   "display_name": "Python 3",
   "language": "python",
   "name": "python3"
  },
  "language_info": {
   "codemirror_mode": {
    "name": "ipython",
    "version": 3
   },
   "file_extension": ".py",
   "mimetype": "text/x-python",
   "name": "python",
   "nbconvert_exporter": "python",
   "pygments_lexer": "ipython3",
   "version": "3.6.4"
  }
 },
 "nbformat": 4,
 "nbformat_minor": 2
}
